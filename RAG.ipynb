{
 "cells": [
  {
   "cell_type": "markdown",
   "metadata": {},
   "source": [
    "### Run docker qdrant"
   ]
  },
  {
   "cell_type": "code",
   "execution_count": 8,
   "metadata": {},
   "outputs": [
    {
     "name": "stdout",
     "output_type": "stream",
     "text": [
      "docker: Error response from daemon: Conflict. The container name \"/rag-openai-qdrant\" is already in use by container \"f144979bd6bc485a60615cd3cd0945f62cd30b8269d3405ef9f3459b26bd37ab\". You have to remove (or rename) that container to be able to reuse that name.\n",
      "See 'docker run --help'.\n"
     ]
    },
    {
     "name": "stderr",
     "output_type": "stream",
     "text": [
      "huggingface/tokenizers: The current process just got forked, after parallelism has already been used. Disabling parallelism to avoid deadlocks...\n",
      "To disable this warning, you can either:\n",
      "\t- Avoid using `tokenizers` before the fork if possible\n",
      "\t- Explicitly set the environment variable TOKENIZERS_PARALLELISM=(true | false)\n"
     ]
    }
   ],
   "source": [
    "!docker run -p \"6333:6333\" -p \"6334:6334\" --name \"rag-openai-qdrant\" --rm -d qdrant/qdrant:latest"
   ]
  },
  {
   "cell_type": "code",
   "execution_count": 9,
   "metadata": {},
   "outputs": [
    {
     "data": {
      "text/plain": [
       "CollectionsResponse(collections=[])"
      ]
     },
     "execution_count": 9,
     "metadata": {},
     "output_type": "execute_result"
    }
   ],
   "source": [
    "import qdrant_client\n",
    "\n",
    "client = qdrant_client.QdrantClient(\"http://localhost:6333\", prefer_grpc=True)\n",
    "client.get_collections()"
   ]
  },
  {
   "cell_type": "markdown",
   "metadata": {},
   "source": [
    "### Import knowledge"
   ]
  },
  {
   "cell_type": "code",
   "execution_count": 15,
   "metadata": {},
   "outputs": [
    {
     "data": {
      "text/plain": [
       "['2a9c54fb217842ca8b1efc7f478f8d9d',\n",
       " 'a1e88b225a094c53a4e48cf4e1a4d2f5',\n",
       " '4f7e2175aee84b1a923634718fa4e923',\n",
       " '418393db4ae44b5ead7e7c7475d573f0',\n",
       " '9a8e668d74e44b4dbf153348922103ae',\n",
       " 'a3e4d6027ae8469391ba7ea09c62a88b',\n",
       " '4394b8db7ffd4edd97768cfc87838652',\n",
       " '888e186501194ac08779473232f85e66']"
      ]
     },
     "execution_count": 15,
     "metadata": {},
     "output_type": "execute_result"
    }
   ],
   "source": [
    "client.add(\n",
    "    collection_name=\"knowledge-base\",\n",
    "    documents=[\n",
    "        \"Qdrant is a vector database & vector similarity search engine. It deploys as an API service providing search for the nearest high-dimensional vectors. With Qdrant, embeddings or neural network encoders can be turned into full-fledged applications for matching, searching, recommending, and much more!\",\n",
    "        \"Docker helps developers build, share, and run applications anywhere — without tedious environment configuration or management.\",\n",
    "        \"PyTorch is a machine learning framework based on the Torch library, used for applications such as computer vision and natural language processing.\",\n",
    "        \"MySQL is an open-source relational database management system (RDBMS). A relational database organizes data into one or more data tables in which data may be related to each other; these relations help structure the data. SQL is a language that programmers use to create, modify and extract data from the relational database, as well as control user access to the database.\",\n",
    "        \"NGINX is a free, open-source, high-performance HTTP server and reverse proxy, as well as an IMAP/POP3 proxy server. NGINX is known for its high performance, stability, rich feature set, simple configuration, and low resource consumption.\",\n",
    "        \"FastAPI is a modern, fast (high-performance), web framework for building APIs with Python 3.7+ based on standard Python type hints.\",\n",
    "        \"SentenceTransformers is a Python framework for state-of-the-art sentence, text and image embeddings. You can use this framework to compute sentence / text embeddings for more than 100 languages. These embeddings can then be compared e.g. with cosine-similarity to find sentences with a similar meaning. This can be useful for semantic textual similar, semantic search, or paraphrase mining.\",\n",
    "        \"The cron command-line utility is a job scheduler on Unix-like operating systems. Users who set up and maintain software environments use cron to schedule jobs (commands or shell scripts), also known as cron jobs, to run periodically at fixed times, dates, or intervals.\",\n",
    "    ]\n",
    ")"
   ]
  },
  {
   "cell_type": "code",
   "execution_count": 11,
   "metadata": {},
   "outputs": [],
   "source": [
    "prompt = \"\"\"\n",
    "What tools should I need to use to build a web service using vector embeddings for search?\n",
    "\"\"\""
   ]
  },
  {
   "cell_type": "markdown",
   "metadata": {},
   "source": [
    "#### Setting openai key"
   ]
  },
  {
   "cell_type": "code",
   "execution_count": 12,
   "metadata": {},
   "outputs": [],
   "source": [
    "import os\n",
    "\n",
    "# Fill the environmental variable with your own OpenAI API key\n",
    "# See: https://platform.openai.com/account/api-keys\n",
    "os.environ[\"OPENAI_API_KEY\"] = \"\""
   ]
  },
  {
   "cell_type": "code",
   "execution_count": 13,
   "metadata": {},
   "outputs": [
    {
     "name": "stdout",
     "output_type": "stream",
     "text": [
      "To build a web service using vector embeddings for search, you will need the following tools:\n",
      "\n",
      "1. Programming Language: You can use Python, Java, or any other language that supports the libraries and tools needed for working with vector embeddings.\n",
      "\n",
      "2. Vector Embeddings: You will need a library or tool that can generate vector embeddings for your data. Popular options include Word2Vec, GloVe, FastText, or using pre-trained embeddings such as BERT or Universal Sentence Encoder.\n",
      "\n",
      "3. Web Framework: You will need a web framework such as Flask or Django to build the web service and handle HTTP requests.\n",
      "\n",
      "4. Database: You may need a database to store and retrieve the vector embeddings and the associated data for search. Options include SQL databases like PostgreSQL or NoSQL databases like MongoDB.\n",
      "\n",
      "5. Search Engine: You may need a search engine such as Elasticsearch or Solr to efficiently search and retrieve results based on the vector embeddings.\n",
      "\n",
      "6. API: You will need to create an API to expose the search functionality to users or other applications. This can be done using a library like Flask-RESTful or Django REST framework.\n",
      "\n",
      "By using these tools, you can build a web service that leverages vector embeddings for search functionality.\n"
     ]
    }
   ],
   "source": [
    "import openai\n",
    "\n",
    "completion = openai.ChatCompletion.create(\n",
    "    model=\"gpt-3.5-turbo\", \n",
    "    messages=[\n",
    "        {\"role\": \"user\", \"content\": prompt},\n",
    "    ]\n",
    ")\n",
    "print(completion[\"choices\"][0][\"message\"][\"content\"])"
   ]
  },
  {
   "cell_type": "markdown",
   "metadata": {},
   "source": [
    "#### Build a function to facilitate querying"
   ]
  },
  {
   "cell_type": "code",
   "execution_count": 20,
   "metadata": {},
   "outputs": [],
   "source": [
    "def rag(question: str, n_points: int = 3) -> str:\n",
    "    results = client.query(\n",
    "        collection_name=\"knowledge-base\",\n",
    "        query_text=question,\n",
    "        limit=n_points,\n",
    "    )\n",
    "\n",
    "    context = \"\\n\".join(r.document for r in results)\n",
    "\n",
    "    metaprompt = f\"\"\"\n",
    "    You are a software architect. \n",
    "    Answer the following question using the provided context. \n",
    "    If you can't find the answer, do not pretend you know it, but answer \"I don't know\".\n",
    "    \n",
    "    Question: {question.strip()}\n",
    "    \n",
    "    Context: \n",
    "    {context.strip()}\n",
    "    \n",
    "    Answer:\n",
    "    \"\"\"\n",
    "\n",
    "    completion = openai.ChatCompletion.create(\n",
    "        model=\"gpt-3.5-turbo\",\n",
    "        messages=[\n",
    "            {\"role\": \"user\", \"content\": metaprompt},\n",
    "        ],\n",
    "        timeout=10.0,\n",
    "    )\n",
    "    return completion[\"choices\"][0][\"message\"][\"content\"]"
   ]
  },
  {
   "cell_type": "code",
   "execution_count": 21,
   "metadata": {},
   "outputs": [
    {
     "data": {
      "text/plain": [
       "'The stack for a web API using FastAPI with Python could potentially include Docker for containerization and NGINX as a high-performance reverse proxy server. The specific components and technologies used in the stack may vary depending on the requirements and preferences of the project.'"
      ]
     },
     "execution_count": 21,
     "metadata": {},
     "output_type": "execute_result"
    }
   ],
   "source": [
    "rag(\"What can the stack for a web api look like?\")"
   ]
  },
  {
   "cell_type": "markdown",
   "metadata": {},
   "source": [
    "### Try another data knowledge"
   ]
  },
  {
   "cell_type": "code",
   "execution_count": 24,
   "metadata": {},
   "outputs": [
    {
     "data": {
      "text/plain": [
       "['948272d88e57400bb6369f93270435d0',\n",
       " '7aba02da41c14d8caf6695bbf1ceca04',\n",
       " '45571bbf534b4a0abf56e059999125ce']"
      ]
     },
     "execution_count": 24,
     "metadata": {},
     "output_type": "execute_result"
    }
   ],
   "source": [
    "client.add(\n",
    "    collection_name=\"knowledge-base\",\n",
    "    documents=[\n",
    "        \"Zhang Ziyi: Renowned for her roles in internationally acclaimed films like \\\"Crouching Tiger, Hidden Dragon,\\\" \\\"Hero,\\\" and \\\"Memoirs of a Geisha,\\\" Zhang Ziyi is one of China's most recognizable and celebrated actresses. She has received numerous awards for her performances and is known for her versatility and emotional depth on screen.\",\n",
    "\n",
    "        \"Gong Li: Often hailed as one of the greatest actresses in Chinese cinema, Gong Li has starred in many iconic films directed by Zhang Yimou, including \\\"Raise the Red Lantern,\\\" \\\"Ju Dou,\\\" and \\\"To Live.\\\" Her powerful performances and captivating presence have earned her international acclaim and accolades.\",\n",
    "\n",
    "        \"Zhou Xun: With a career spanning over two decades, Zhou Xun has established herself as a versatile actress known for her ability to portray a wide range of characters. She has starred in films such as \\\"Perhaps Love,\\\" \\\"The Banquet,\\\" and \\\"The Great Magician,\\\" showcasing her talent and versatility.\"\n",
    "\n",
    "        \"Fan Bingbing: As one of China's highest-paid actresses, Fan Bingbing has achieved widespread recognition both domestically and internationally. She has appeared in blockbuster films like \\\"X-Men: Days of Future Past\\\" and \\\"The White Haired Witch of Lunar Kingdom,\\\" as well as critically acclaimed dramas such as \\\"Cell Phone\\\" and \\\"Lost in Beijing.\\\"\"\n",
    "\n",
    "        \"Li Bingbing: Known for her roles in both Chinese and Hollywood productions, Li Bingbing has starred in films like \\\"The Forbidden Kingdom,\\\" \\\"Transformers: Age of Extinction,\\\" and \\\"Detective Dee and the Mystery of the Phantom Flame.\\\" She is admired for her beauty, talent, and versatility as an actress.\"\n",
    "\n",
    "        \"Tang Wei: Tang Wei gained international fame for her performance in Ang Lee's film \\\"Lust, Caution,\\\" for which she won the Best New Performer award at the Golden Horse Awards. She has since appeared in various Chinese and international productions, showcasing her acting prowess and captivating screen presence.\"\n",
    "\n",
    "\n",
    "        \"Liu Yifei: Best known for her role as Mulan in Disney's live-action adaptation of the animated classic, Liu Yifei has been a prominent figure in Chinese cinema for many years. She has starred in various historical dramas, romantic comedies, and action films, establishing herself as a versatile and talented actress.\"\n",
    "\n",
    "        \"Yang Mi: With a successful career spanning film, television, and music, Yang Mi has become one of China's most popular and influential actresses. She has appeared in a wide range of genres, from romantic dramas to fantasy epics, and has garnered a large fan following both in China and internationally.\"\n",
    "\n",
    "        \"Bailu, also known as 白鹿 (Bai Lu) in Mandarin, is a Chinese actress known for her performances in various television dramas and films. She gained recognition for her roles in popular Chinese dramas such as \\\"The Legends\\\" (招摇) and \\\"Arsenal Military Academy\\\" (烈火军校). Bailu has garnered praise for her acting skills and versatility, portraying a wide range of characters with depth and emotion.\"\n",
    "    ]\n",
    ")"
   ]
  },
  {
   "cell_type": "code",
   "execution_count": 25,
   "metadata": {},
   "outputs": [
    {
     "data": {
      "text/plain": [
       "'Bailu is a Chinese actress known for her performances in various television dramas and films.'"
      ]
     },
     "execution_count": 25,
     "metadata": {},
     "output_type": "execute_result"
    }
   ],
   "source": [
    "rag(\"Who is Bailu?\")"
   ]
  },
  {
   "cell_type": "code",
   "execution_count": 27,
   "metadata": {},
   "outputs": [
    {
     "data": {
      "text/plain": [
       "'Zhou Xun, Fan Bingbing, Li Bingbing, Tang Wei, Liu Yifei, Yang Mi, Bailu, Zhang Ziyi, and Gong Li are some of the prominent actors in China.'"
      ]
     },
     "execution_count": 27,
     "metadata": {},
     "output_type": "execute_result"
    }
   ],
   "source": [
    "rag(\"tell me about name some of actor in China?\")"
   ]
  },
  {
   "cell_type": "markdown",
   "metadata": {},
   "source": [
    "#### clear enviroment"
   ]
  },
  {
   "cell_type": "code",
   "execution_count": 28,
   "metadata": {},
   "outputs": [
    {
     "name": "stderr",
     "output_type": "stream",
     "text": [
      "huggingface/tokenizers: The current process just got forked, after parallelism has already been used. Disabling parallelism to avoid deadlocks...\n",
      "To disable this warning, you can either:\n",
      "\t- Avoid using `tokenizers` before the fork if possible\n",
      "\t- Explicitly set the environment variable TOKENIZERS_PARALLELISM=(true | false)\n"
     ]
    },
    {
     "name": "stdout",
     "output_type": "stream",
     "text": [
      "rag-openai-qdrant\n",
      "Error: No such container: rag-openai-qdrant\n"
     ]
    },
    {
     "name": "stderr",
     "output_type": "stream",
     "text": [
      "huggingface/tokenizers: The current process just got forked, after parallelism has already been used. Disabling parallelism to avoid deadlocks...\n",
      "To disable this warning, you can either:\n",
      "\t- Avoid using `tokenizers` before the fork if possible\n",
      "\t- Explicitly set the environment variable TOKENIZERS_PARALLELISM=(true | false)\n"
     ]
    }
   ],
   "source": [
    "!docker kill rag-openai-qdrant\n",
    "!docker rm rag-openai-qdrant"
   ]
  }
 ],
 "metadata": {
  "kernelspec": {
   "display_name": "Python 3",
   "language": "python",
   "name": "python3"
  },
  "language_info": {
   "codemirror_mode": {
    "name": "ipython",
    "version": 3
   },
   "file_extension": ".py",
   "mimetype": "text/x-python",
   "name": "python",
   "nbconvert_exporter": "python",
   "pygments_lexer": "ipython3",
   "version": "3.11.0"
  }
 },
 "nbformat": 4,
 "nbformat_minor": 2
}
